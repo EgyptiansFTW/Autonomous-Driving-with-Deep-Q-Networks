{
 "cells": [
  {
   "cell_type": "code",
   "execution_count": 2,
   "metadata": {},
   "outputs": [],
   "source": [
    "# Import necessary libraries\n",
    "from roboflow import Roboflow\n",
    "import os\n",
    "import json\n",
    "from dotenv import load_dotenv"
   ]
  },
  {
   "cell_type": "code",
   "execution_count": 1,
   "metadata": {},
   "outputs": [
    {
     "name": "stdout",
     "output_type": "stream",
     "text": [
      "Collecting pybullet\n",
      "  Downloading pybullet-3.2.6.tar.gz (80.5 MB)\n",
      "     ---------------------------------------- 0.0/80.5 MB ? eta -:--:--\n",
      "     - -------------------------------------- 2.9/80.5 MB 16.7 MB/s eta 0:00:05\n",
      "     --- ------------------------------------ 6.8/80.5 MB 18.2 MB/s eta 0:00:05\n",
      "     ----- --------------------------------- 11.0/80.5 MB 18.1 MB/s eta 0:00:04\n",
      "     ------- ------------------------------- 14.9/80.5 MB 18.4 MB/s eta 0:00:04\n",
      "     -------- ------------------------------ 17.0/80.5 MB 16.5 MB/s eta 0:00:04\n",
      "     --------- ----------------------------- 20.2/80.5 MB 15.9 MB/s eta 0:00:04\n",
      "     ---------- ---------------------------- 22.0/80.5 MB 16.0 MB/s eta 0:00:04\n",
      "     ----------- --------------------------- 23.3/80.5 MB 13.9 MB/s eta 0:00:05\n",
      "     ------------ -------------------------- 26.2/80.5 MB 14.2 MB/s eta 0:00:04\n",
      "     ------------- ------------------------- 27.8/80.5 MB 13.3 MB/s eta 0:00:04\n",
      "     -------------- ------------------------ 30.9/80.5 MB 13.4 MB/s eta 0:00:04\n",
      "     ---------------- ---------------------- 34.9/80.5 MB 13.8 MB/s eta 0:00:04\n",
      "     ------------------ -------------------- 38.3/80.5 MB 14.1 MB/s eta 0:00:04\n",
      "     ------------------ -------------------- 38.8/80.5 MB 14.1 MB/s eta 0:00:03\n",
      "     ------------------- ------------------- 40.1/80.5 MB 12.8 MB/s eta 0:00:04\n",
      "     -------------------- ------------------ 43.3/80.5 MB 12.9 MB/s eta 0:00:03\n",
      "     ---------------------- ---------------- 47.4/80.5 MB 13.3 MB/s eta 0:00:03\n",
      "     ------------------------ -------------- 50.9/80.5 MB 13.4 MB/s eta 0:00:03\n",
      "     -------------------------- ------------ 54.3/80.5 MB 13.6 MB/s eta 0:00:02\n",
      "     --------------------------- ----------- 56.6/80.5 MB 13.6 MB/s eta 0:00:02\n",
      "     ----------------------------- --------- 61.1/80.5 MB 13.8 MB/s eta 0:00:02\n",
      "     ------------------------------ -------- 62.9/80.5 MB 13.6 MB/s eta 0:00:02\n",
      "     ------------------------------- ------- 64.7/80.5 MB 13.4 MB/s eta 0:00:02\n",
      "     -------------------------------- ------ 66.8/80.5 MB 13.5 MB/s eta 0:00:02\n",
      "     --------------------------------- ----- 68.7/80.5 MB 13.3 MB/s eta 0:00:01\n",
      "     ---------------------------------- ---- 71.0/80.5 MB 12.9 MB/s eta 0:00:01\n",
      "     ------------------------------------ -- 74.4/80.5 MB 13.2 MB/s eta 0:00:01\n",
      "     ------------------------------------ -- 75.5/80.5 MB 12.8 MB/s eta 0:00:01\n",
      "     ------------------------------------- - 77.1/80.5 MB 12.6 MB/s eta 0:00:01\n",
      "     ------------------------------------- - 78.1/80.5 MB 12.4 MB/s eta 0:00:01\n",
      "     --------------------------------------  79.2/80.5 MB 12.1 MB/s eta 0:00:01\n",
      "     --------------------------------------- 80.5/80.5 MB 11.9 MB/s eta 0:00:00\n",
      "  Preparing metadata (setup.py): started\n",
      "  Preparing metadata (setup.py): finished with status 'done'\n",
      "Building wheels for collected packages: pybullet\n",
      "  Building wheel for pybullet (setup.py): started\n",
      "  Building wheel for pybullet (setup.py): still running...\n",
      "  Building wheel for pybullet (setup.py): still running...\n",
      "  Building wheel for pybullet (setup.py): still running...\n",
      "  Building wheel for pybullet (setup.py): still running...\n",
      "  Building wheel for pybullet (setup.py): finished with status 'done'\n",
      "  Created wheel for pybullet: filename=pybullet-3.2.6-cp312-cp312-win_amd64.whl size=67444716 sha256=c51255e194b567e701707b097412130335fe76b49698f5d4d4fe5b681692bf18\n",
      "  Stored in directory: c:\\users\\home\\appdata\\local\\pip\\cache\\wheels\\d2\\82\\a7\\86fd408fe12eb6a27cfa8328e42c86630a465baa60b43ba3a6\n",
      "Successfully built pybullet\n",
      "Installing collected packages: pybullet\n",
      "Successfully installed pybullet-3.2.6\n",
      "Note: you may need to restart the kernel to use updated packages.\n"
     ]
    }
   ],
   "source": [
    "%pip install pybullet"
   ]
  },
  {
   "cell_type": "code",
   "execution_count": 3,
   "metadata": {},
   "outputs": [],
   "source": [
    "# Load environment variables from .env file\n",
    "load_dotenv()\n",
    "\n",
    "# Get the API key from the environment variable\n",
    "api_key = os.getenv('ROBOFLOW_API_KEY')"
   ]
  },
  {
   "cell_type": "code",
   "execution_count": null,
   "metadata": {},
   "outputs": [],
   "source": [
    "rf = Roboflow(api_key=api_key)\n",
    "project = rf.workspace(\"roboflow-gw7yv\").project(\"self-driving-car\")\n",
    "version = project.version(3)\n",
    "dataset = version.download(\"coco\")"
   ]
  }
 ],
 "metadata": {
  "kernelspec": {
   "display_name": ".venv",
   "language": "python",
   "name": "python3"
  },
  "language_info": {
   "codemirror_mode": {
    "name": "ipython",
    "version": 3
   },
   "file_extension": ".py",
   "mimetype": "text/x-python",
   "name": "python",
   "nbconvert_exporter": "python",
   "pygments_lexer": "ipython3",
   "version": "3.12.5"
  }
 },
 "nbformat": 4,
 "nbformat_minor": 2
}
